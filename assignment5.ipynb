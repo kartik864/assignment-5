{
 "cells": [
  {
   "cell_type": "code",
   "execution_count": 8,
   "id": "3b89ac57-f63b-453f-9c23-919df59f87c6",
   "metadata": {},
   "outputs": [
    {
     "name": "stdout",
     "output_type": "stream",
     "text": [
      "1\n",
      "2\n",
      "3\n",
      "4\n"
     ]
    }
   ],
   "source": [
    "#Q1\n",
    "count=0\n",
    "while count<=10:\n",
    "    count+=1\n",
    "    if count==5:\n",
    "        break\n",
    "    print(count)    "
   ]
  },
  {
   "cell_type": "code",
   "execution_count": null,
   "id": "8074df5a-b081-42bd-9c7c-d31567107a96",
   "metadata": {},
   "outputs": [],
   "source": [
    "#Q2"
   ]
  },
  {
   "cell_type": "code",
   "execution_count": 13,
   "id": "dc86b6ee-981a-44eb-ac9a-7e4fd2fd3d40",
   "metadata": {},
   "outputs": [
    {
     "name": "stdout",
     "output_type": "stream",
     "text": [
      "aryan\n",
      "2\n",
      "4\n",
      "g\n"
     ]
    }
   ],
   "source": [
    "list=[\"aryan\",2 , 4 , \"g\" ,\"h\",\"regervr\",\"wrwfwe\",\"kartk\" ]\n",
    "index=0\n",
    "for index in list:\n",
    "    if index==\"h\":\n",
    "        break\n",
    "    print(index)"
   ]
  },
  {
   "cell_type": "code",
   "execution_count": 16,
   "id": "6167be0f-22ad-47f7-9a59-67d99eb520d4",
   "metadata": {},
   "outputs": [
    {
     "name": "stdout",
     "output_type": "stream",
     "text": [
      "1\n",
      "3\n",
      "5\n",
      "7\n",
      "9\n"
     ]
    }
   ],
   "source": [
    "#Q3\n",
    "count=0\n",
    "while count <10:\n",
    "    count+=1\n",
    "    if count %2 ==0:\n",
    "        continue\n",
    "    print(count)    "
   ]
  },
  {
   "cell_type": "code",
   "execution_count": 4,
   "id": "0d05b005-ed69-41c7-8b2d-12eda7d494c2",
   "metadata": {},
   "outputs": [
    {
     "name": "stdout",
     "output_type": "stream",
     "text": [
      "1\n",
      "3\n",
      "5\n",
      "7\n",
      "9\n"
     ]
    }
   ],
   "source": [
    "#Q3\n",
    "for i in range(11):\n",
    "    if i%2==0:\n",
    "        continue\n",
    "    print(i)    \n",
    "          "
   ]
  },
  {
   "cell_type": "code",
   "execution_count": 19,
   "id": "7111f3f2-f790-47fa-a212-a871f12a5724",
   "metadata": {},
   "outputs": [
    {
     "name": "stdout",
     "output_type": "stream",
     "text": [
      "0\n",
      "1\n",
      "2\n",
      "3\n",
      "4\n",
      "5\n",
      "6\n",
      "7\n",
      "8\n",
      "9\n"
     ]
    }
   ],
   "source": [
    "#Q4\n",
    "for i in range(10):\n",
    "    print(i)"
   ]
  },
  {
   "cell_type": "code",
   "execution_count": 34,
   "id": "c2a6d8fe-6953-49ed-aef4-3395281994bf",
   "metadata": {},
   "outputs": [
    {
     "name": "stdout",
     "output_type": "stream",
     "text": [
      "multiplication table for  {1}\n",
      "1 * 1 = 1\n",
      "1 * 2 = 2\n",
      "1 * 3 = 3\n",
      "1 * 4 = 4\n",
      "1 * 5 = 5\n",
      "1 * 6 = 6\n",
      "1 * 7 = 7\n",
      "1 * 8 = 8\n",
      "1 * 9 = 9\n",
      "1 * 10 = 10\n",
      "\n",
      "multiplication table for  {2}\n",
      "2 * 1 = 2\n",
      "2 * 2 = 4\n",
      "2 * 3 = 6\n",
      "2 * 4 = 8\n",
      "2 * 5 = 10\n",
      "2 * 6 = 12\n",
      "2 * 7 = 14\n",
      "2 * 8 = 16\n",
      "2 * 9 = 18\n",
      "2 * 10 = 20\n",
      "\n",
      "multiplication table for  {3}\n",
      "3 * 1 = 3\n",
      "3 * 2 = 6\n",
      "3 * 3 = 9\n",
      "3 * 4 = 12\n",
      "3 * 5 = 15\n",
      "3 * 6 = 18\n",
      "3 * 7 = 21\n",
      "3 * 8 = 24\n",
      "3 * 9 = 27\n",
      "3 * 10 = 30\n",
      "\n",
      "multiplication table for  {4}\n",
      "4 * 1 = 4\n",
      "4 * 2 = 8\n",
      "4 * 3 = 12\n",
      "4 * 4 = 16\n",
      "4 * 5 = 20\n",
      "4 * 6 = 24\n",
      "4 * 7 = 28\n",
      "4 * 8 = 32\n",
      "4 * 9 = 36\n",
      "4 * 10 = 40\n",
      "\n",
      "multiplication table for  {5}\n",
      "5 * 1 = 5\n",
      "5 * 2 = 10\n",
      "5 * 3 = 15\n",
      "5 * 4 = 20\n",
      "5 * 5 = 25\n",
      "5 * 6 = 30\n",
      "5 * 7 = 35\n",
      "5 * 8 = 40\n",
      "5 * 9 = 45\n",
      "5 * 10 = 50\n",
      "\n"
     ]
    }
   ],
   "source": [
    "#Q5\n",
    "def multiplication_table(n):\n",
    "    for i in range(1,n+1):\n",
    "        print(\"multiplication table for \",{i})\n",
    "        for j in range(1,11):\n",
    "            print(i,\"*\",j,\"=\",i*j)\n",
    "        print()    \n",
    "multiplication_table(5)        "
   ]
  },
  {
   "cell_type": "code",
   "execution_count": null,
   "id": "b2c703b3-fff0-43e5-8907-5f8833c86f63",
   "metadata": {},
   "outputs": [],
   "source": [
    "#Q6\n",
    "count=0\n",
    "while count<10:\n",
    "    count+=1\n",
    "    if count %2==0:\n",
    "        continue\n",
    "        "
   ]
  }
 ],
 "metadata": {
  "kernelspec": {
   "display_name": "Python 3 (ipykernel)",
   "language": "python",
   "name": "python3"
  },
  "language_info": {
   "codemirror_mode": {
    "name": "ipython",
    "version": 3
   },
   "file_extension": ".py",
   "mimetype": "text/x-python",
   "name": "python",
   "nbconvert_exporter": "python",
   "pygments_lexer": "ipython3",
   "version": "3.10.8"
  }
 },
 "nbformat": 4,
 "nbformat_minor": 5
}
